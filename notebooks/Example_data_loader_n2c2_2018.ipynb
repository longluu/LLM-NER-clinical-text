{
 "cells": [
  {
   "cell_type": "markdown",
   "metadata": {
    "tags": []
   },
   "source": [
    "# Converting brat to BIO"
   ]
  },
  {
   "cell_type": "markdown",
   "metadata": {
    "tags": []
   },
   "source": [
    "## Train data"
   ]
  },
  {
   "cell_type": "code",
   "execution_count": null,
   "metadata": {
    "tags": []
   },
   "outputs": [],
   "source": [
    "from src.data.annotation2BIO import generate_BIO, pre_processing, read_annotation_brat, BIOdata_to_file, logger\n",
    "from pathlib import Path\n",
    "import logging\n",
    "logging.disable(logging.INFO) # disable INFO and DEBUG logging everywhere\n",
    "\n",
    "# path to train data\n",
    "training_dir = \"../data/private/n2c2-2018/ner/train\"\n",
    "output_dir = \"../data/private/n2c2-2018/ner/train-bio\"\n",
    "train_root = Path(training_dir)\n",
    "output_root = Path(output_dir)\n",
    "output_root.mkdir(parents=True, exist_ok=True)\n",
    "\n",
    "# get all file id\n",
    "file_ids = set()\n",
    "for fn in Path(training_root).glob(\"*.ann\"):\n",
    "    file_ids.add(fn.stem)\n",
    "    \n",
    "len(file_ids)\n",
    "\n",
    "# generate BIO from brat annotation\n",
    "for fid in file_ids:\n",
    "    txt_fn = train_root / (fid + \".txt\")\n",
    "    ann_fn = train_root / (fid + \".ann\")\n",
    "    bio_fn = output_root / (fid + \".bio.txt\")\n",
    "    \n",
    "    txt, sents = pre_processing(txt_fn)\n",
    "    e2idx, entities, rels = read_annotation_brat(ann_fn)\n",
    "    nsents, sent_bound = generate_BIO(sents, entities, file_id=fid, no_overlap=False)\n",
    "    \n",
    "    BIOdata_to_file(bio_fn, nsents)"
   ]
  },
  {
   "cell_type": "markdown",
   "metadata": {},
   "source": [
    "## Test data"
   ]
  },
  {
   "cell_type": "code",
   "execution_count": null,
   "metadata": {
    "tags": []
   },
   "outputs": [],
   "source": [
    "# path to test data\n",
    "test_dir = \"../data/private/n2c2-2018/ner/test\"\n",
    "output_dir = \"../data/private/n2c2-2018/ner/test-bio\"\n",
    "test_root = Path(test_dir)\n",
    "output_root = Path(output_dir)\n",
    "output_root.mkdir(parents=True, exist_ok=True)\n",
    "\n",
    "# get all file id\n",
    "file_ids = set()\n",
    "for fn in Path(test_root).glob(\"*.ann\"):\n",
    "    file_ids.add(fn.stem)\n",
    "    \n",
    "len(file_ids)\n",
    "\n",
    "# generate BIO from brat annotation\n",
    "for fid in file_ids:\n",
    "    txt_fn = test_root / (fid + \".txt\")\n",
    "    ann_fn = test_root / (fid + \".ann\")\n",
    "    bio_fn = output_root / (fid + \".bio.txt\")\n",
    "    \n",
    "    txt, sents = pre_processing(txt_fn)\n",
    "    e2idx, entities, rels = read_annotation_brat(ann_fn)\n",
    "    nsents, sent_bound = generate_BIO(sents, entities, file_id=fid, no_overlap=False)\n",
    "    \n",
    "    BIOdata_to_file(bio_fn, nsents)"
   ]
  }
 ],
 "metadata": {
  "kernelspec": {
   "display_name": "Custom (Tutorial-LLM)",
   "language": "python",
   "name": "tutorial-llm"
  },
  "language_info": {
   "codemirror_mode": {
    "name": "ipython",
    "version": 3
   },
   "file_extension": ".py",
   "mimetype": "text/x-python",
   "name": "python",
   "nbconvert_exporter": "python",
   "pygments_lexer": "ipython3",
   "version": "3.9.2"
  }
 },
 "nbformat": 4,
 "nbformat_minor": 4
}
