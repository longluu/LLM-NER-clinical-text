{
 "cells": [
  {
   "cell_type": "markdown",
   "id": "96f1c2bf-26bd-4ef1-b70a-89c3096f121a",
   "metadata": {
    "tags": []
   },
   "source": [
    "# GatorTronS"
   ]
  },
  {
   "cell_type": "markdown",
   "id": "7cdbc7d5-156e-4cb6-96c8-99ae607d9ee8",
   "metadata": {
    "jp-MarkdownHeadingCollapsed": true,
    "tags": []
   },
   "source": [
    "## Train the model"
   ]
  },
  {
   "cell_type": "code",
   "execution_count": 1,
   "id": "efc20b64-f3b8-405a-a1ef-a1377db9f40a",
   "metadata": {
    "tags": []
   },
   "outputs": [
    {
     "name": "stdout",
     "output_type": "stream",
     "text": [
      "Loading and preprocessing the dataset ...\n",
      "/home/ec2-user/SageMaker/LLM-NER-clinical-text/data/private/n2c2-2018/ner/\n"
     ]
    },
    {
     "data": {
      "application/vnd.jupyter.widget-view+json": {
       "model_id": "2fb0157317494134815b33634935d49a",
       "version_major": 2,
       "version_minor": 0
      },
      "text/plain": [
       "Map:   0%|          | 0/1761 [00:00<?, ? examples/s]"
      ]
     },
     "metadata": {},
     "output_type": "display_data"
    },
    {
     "data": {
      "application/vnd.jupyter.widget-view+json": {
       "model_id": "5eea25361c65410a9eb700077dc23619",
       "version_major": 2,
       "version_minor": 0
      },
      "text/plain": [
       "Map:   0%|          | 0/441 [00:00<?, ? examples/s]"
      ]
     },
     "metadata": {},
     "output_type": "display_data"
    },
    {
     "data": {
      "application/vnd.jupyter.widget-view+json": {
       "model_id": "e93aeab7a52648f19047b545ac16449f",
       "version_major": 2,
       "version_minor": 0
      },
      "text/plain": [
       "Map:   0%|          | 0/1442 [00:00<?, ? examples/s]"
      ]
     },
     "metadata": {},
     "output_type": "display_data"
    },
    {
     "data": {
      "application/vnd.jupyter.widget-view+json": {
       "model_id": "232da1805a2b495f86e82b783199f2f2",
       "version_major": 2,
       "version_minor": 0
      },
      "text/plain": [
       "Map:   0%|          | 0/1761 [00:00<?, ? examples/s]"
      ]
     },
     "metadata": {},
     "output_type": "display_data"
    },
    {
     "data": {
      "application/vnd.jupyter.widget-view+json": {
       "model_id": "181b73add00d4918bf2c265b39815351",
       "version_major": 2,
       "version_minor": 0
      },
      "text/plain": [
       "Map:   0%|          | 0/441 [00:00<?, ? examples/s]"
      ]
     },
     "metadata": {},
     "output_type": "display_data"
    },
    {
     "data": {
      "application/vnd.jupyter.widget-view+json": {
       "model_id": "8dffea2140c4418c8d0ea1e0dea06152",
       "version_major": 2,
       "version_minor": 0
      },
      "text/plain": [
       "Map:   0%|          | 0/1442 [00:00<?, ? examples/s]"
      ]
     },
     "metadata": {},
     "output_type": "display_data"
    },
    {
     "name": "stdout",
     "output_type": "stream",
     "text": [
      "The device to run the model: cuda\n",
      "Load the pretrained model ...\n"
     ]
    },
    {
     "name": "stderr",
     "output_type": "stream",
     "text": [
      "/home/ec2-user/SageMaker/custom-miniconda/miniconda/envs/Tutorial-LLM/lib/python3.9/site-packages/torch/_utils.py:831: UserWarning: TypedStorage is deprecated. It will be removed in the future and UntypedStorage will be the only storage class. This should only matter to you if you are using storages directly.  To access UntypedStorage directly, use tensor.untyped_storage() instead of tensor.storage()\n",
      "  return self.fget.__get__(instance, owner)()\n",
      "Some weights of MegatronBertForTokenClassification were not initialized from the model checkpoint at UFNLP/gatortrons and are newly initialized: ['classifier.bias', 'classifier.weight']\n",
      "You should probably TRAIN this model on a down-stream task to be able to use it for predictions and inference.\n"
     ]
    },
    {
     "name": "stdout",
     "output_type": "stream",
     "text": [
      "The model has 354.237459millions parameters.\n"
     ]
    },
    {
     "data": {
      "text/html": [
       "\n",
       "    <div>\n",
       "      \n",
       "      <progress value='8820' max='8820' style='width:300px; height:20px; vertical-align: middle;'></progress>\n",
       "      [8820/8820 3:12:36, Epoch 20/20]\n",
       "    </div>\n",
       "    <table border=\"1\" class=\"dataframe\">\n",
       "  <thead>\n",
       " <tr style=\"text-align: left;\">\n",
       "      <th>Epoch</th>\n",
       "      <th>Training Loss</th>\n",
       "      <th>Validation Loss</th>\n",
       "      <th>F1</th>\n",
       "    </tr>\n",
       "  </thead>\n",
       "  <tbody>\n",
       "    <tr>\n",
       "      <td>1</td>\n",
       "      <td>0.155300</td>\n",
       "      <td>0.055425</td>\n",
       "      <td>0.891804</td>\n",
       "    </tr>\n",
       "    <tr>\n",
       "      <td>2</td>\n",
       "      <td>0.048900</td>\n",
       "      <td>0.050023</td>\n",
       "      <td>0.900768</td>\n",
       "    </tr>\n",
       "    <tr>\n",
       "      <td>3</td>\n",
       "      <td>0.038500</td>\n",
       "      <td>0.045560</td>\n",
       "      <td>0.907348</td>\n",
       "    </tr>\n",
       "    <tr>\n",
       "      <td>4</td>\n",
       "      <td>0.031300</td>\n",
       "      <td>0.045424</td>\n",
       "      <td>0.911005</td>\n",
       "    </tr>\n",
       "    <tr>\n",
       "      <td>5</td>\n",
       "      <td>0.025400</td>\n",
       "      <td>0.048371</td>\n",
       "      <td>0.913191</td>\n",
       "    </tr>\n",
       "    <tr>\n",
       "      <td>6</td>\n",
       "      <td>0.021200</td>\n",
       "      <td>0.050878</td>\n",
       "      <td>0.909627</td>\n",
       "    </tr>\n",
       "    <tr>\n",
       "      <td>7</td>\n",
       "      <td>0.018300</td>\n",
       "      <td>0.058283</td>\n",
       "      <td>0.909204</td>\n",
       "    </tr>\n",
       "    <tr>\n",
       "      <td>8</td>\n",
       "      <td>0.015500</td>\n",
       "      <td>0.062737</td>\n",
       "      <td>0.909741</td>\n",
       "    </tr>\n",
       "    <tr>\n",
       "      <td>9</td>\n",
       "      <td>0.012200</td>\n",
       "      <td>0.064371</td>\n",
       "      <td>0.905680</td>\n",
       "    </tr>\n",
       "    <tr>\n",
       "      <td>10</td>\n",
       "      <td>0.010500</td>\n",
       "      <td>0.067721</td>\n",
       "      <td>0.897739</td>\n",
       "    </tr>\n",
       "    <tr>\n",
       "      <td>11</td>\n",
       "      <td>0.008600</td>\n",
       "      <td>0.071770</td>\n",
       "      <td>0.905316</td>\n",
       "    </tr>\n",
       "    <tr>\n",
       "      <td>12</td>\n",
       "      <td>0.007800</td>\n",
       "      <td>0.074924</td>\n",
       "      <td>0.908650</td>\n",
       "    </tr>\n",
       "    <tr>\n",
       "      <td>13</td>\n",
       "      <td>0.006000</td>\n",
       "      <td>0.075790</td>\n",
       "      <td>0.906047</td>\n",
       "    </tr>\n",
       "    <tr>\n",
       "      <td>14</td>\n",
       "      <td>0.005300</td>\n",
       "      <td>0.080515</td>\n",
       "      <td>0.906828</td>\n",
       "    </tr>\n",
       "    <tr>\n",
       "      <td>15</td>\n",
       "      <td>0.004600</td>\n",
       "      <td>0.086210</td>\n",
       "      <td>0.908124</td>\n",
       "    </tr>\n",
       "    <tr>\n",
       "      <td>16</td>\n",
       "      <td>0.003800</td>\n",
       "      <td>0.090493</td>\n",
       "      <td>0.909558</td>\n",
       "    </tr>\n",
       "    <tr>\n",
       "      <td>17</td>\n",
       "      <td>0.003400</td>\n",
       "      <td>0.089984</td>\n",
       "      <td>0.907731</td>\n",
       "    </tr>\n",
       "    <tr>\n",
       "      <td>18</td>\n",
       "      <td>0.003200</td>\n",
       "      <td>0.092332</td>\n",
       "      <td>0.908684</td>\n",
       "    </tr>\n",
       "    <tr>\n",
       "      <td>19</td>\n",
       "      <td>0.002600</td>\n",
       "      <td>0.094812</td>\n",
       "      <td>0.907810</td>\n",
       "    </tr>\n",
       "    <tr>\n",
       "      <td>20</td>\n",
       "      <td>0.002400</td>\n",
       "      <td>0.095146</td>\n",
       "      <td>0.907242</td>\n",
       "    </tr>\n",
       "  </tbody>\n",
       "</table><p>"
      ],
      "text/plain": [
       "<IPython.core.display.HTML object>"
      ]
     },
     "metadata": {},
     "output_type": "display_data"
    }
   ],
   "source": [
    "import logging\n",
    "logging.disable(logging.INFO) # disable INFO and DEBUG logging everywhere\n",
    "\n",
    "%run /home/ec2-user/SageMaker/LLM-NER-clinical-text/src/models/train_model.py \\\n",
    "--model_name 'UFNLP/gatortrons' \\\n",
    "--data_dir '/home/ec2-user/SageMaker/LLM-NER-clinical-text/data/private/n2c2-2018/ner/' \\\n",
    "--batch_size 4 \\\n",
    "--num_train_epochs 20 \\\n",
    "--learning_rate 1e-5 \\\n",
    "--weight_decay 0.0 \\\n",
    "--new_model_dir \"/home/ec2-user/SageMaker/LLM-NER-clinical-text/models/n2c2-2018/gatortrons/\" \\\n",
    "--path_umls_semtype '/home/ec2-user/SageMaker/LLM-NER-clinical-text/data/public/MedMentions/SemGroups_2018.txt'\n"
   ]
  },
  {
   "cell_type": "markdown",
   "id": "ea059678-d54a-4ed2-82dc-e0323354d8fd",
   "metadata": {
    "tags": []
   },
   "source": [
    "## Evaluate on test data\n"
   ]
  },
  {
   "cell_type": "code",
   "execution_count": 1,
   "id": "fe0794d8-5c85-4a96-87ab-2e19e1cf7b57",
   "metadata": {
    "tags": []
   },
   "outputs": [
    {
     "name": "stdout",
     "output_type": "stream",
     "text": [
      "Loading and preprocessing the dataset ...\n",
      "/home/ec2-user/SageMaker/LLM-NER-clinical-text/data/private/n2c2-2018/ner/\n"
     ]
    },
    {
     "data": {
      "application/vnd.jupyter.widget-view+json": {
       "model_id": "81a189b3aa6c4ada9293491834de92cc",
       "version_major": 2,
       "version_minor": 0
      },
      "text/plain": [
       "Map:   0%|          | 0/1761 [00:00<?, ? examples/s]"
      ]
     },
     "metadata": {},
     "output_type": "display_data"
    },
    {
     "data": {
      "application/vnd.jupyter.widget-view+json": {
       "model_id": "c232ba0c54464d2bad9c248a22b01740",
       "version_major": 2,
       "version_minor": 0
      },
      "text/plain": [
       "Map:   0%|          | 0/441 [00:00<?, ? examples/s]"
      ]
     },
     "metadata": {},
     "output_type": "display_data"
    },
    {
     "data": {
      "application/vnd.jupyter.widget-view+json": {
       "model_id": "50f653d2afe345b193c184ac3813e1f2",
       "version_major": 2,
       "version_minor": 0
      },
      "text/plain": [
       "Map:   0%|          | 0/1442 [00:00<?, ? examples/s]"
      ]
     },
     "metadata": {},
     "output_type": "display_data"
    },
    {
     "data": {
      "application/vnd.jupyter.widget-view+json": {
       "model_id": "9789e363110e4f9bbab21688cce5a3a2",
       "version_major": 2,
       "version_minor": 0
      },
      "text/plain": [
       "Map:   0%|          | 0/1761 [00:00<?, ? examples/s]"
      ]
     },
     "metadata": {},
     "output_type": "display_data"
    },
    {
     "data": {
      "application/vnd.jupyter.widget-view+json": {
       "model_id": "d584755b03104bfc9bd247d0f25c6d5e",
       "version_major": 2,
       "version_minor": 0
      },
      "text/plain": [
       "Map:   0%|          | 0/441 [00:00<?, ? examples/s]"
      ]
     },
     "metadata": {},
     "output_type": "display_data"
    },
    {
     "data": {
      "application/vnd.jupyter.widget-view+json": {
       "model_id": "9ed92a775cf1408b9309262a48ee24a2",
       "version_major": 2,
       "version_minor": 0
      },
      "text/plain": [
       "Map:   0%|          | 0/1442 [00:00<?, ? examples/s]"
      ]
     },
     "metadata": {},
     "output_type": "display_data"
    },
    {
     "data": {
      "application/vnd.jupyter.widget-view+json": {
       "model_id": "aafd41c2ae444e1da83bff25ee0151a3",
       "version_major": 2,
       "version_minor": 0
      },
      "text/plain": [
       "Map:   0%|          | 0/1442 [00:00<?, ? examples/s]"
      ]
     },
     "metadata": {},
     "output_type": "display_data"
    },
    {
     "data": {
      "text/plain": [
       "{'f1': 0.8938077297034516,\n",
       " 'precision': 0.8943512100206737,\n",
       " 'recall': 0.8932649095105065}"
      ]
     },
     "execution_count": 1,
     "metadata": {},
     "output_type": "execute_result"
    }
   ],
   "source": [
    "from src.models.model import *\n",
    "\n",
    "# Load the model\n",
    "model_loader = ModelLoader('/home/ec2-user/SageMaker/LLM-NER-clinical-text/models/n2c2-2018/gatortrons/')\n",
    "\n",
    "# Evaluate the models on metrics\n",
    "scores, prediction_results, classmap = model_loader.evaluate_model(dataset_name='/home/ec2-user/SageMaker/LLM-NER-clinical-text/data/private/n2c2-2018/ner/',\\\n",
    "                                     path_umls_semtype='../data/public/MedMentions/SemGroups_2018.txt',\\\n",
    "                                     metric_names=['f1', 'precision', 'recall', 'matthews_correlation'])\n",
    "\n",
    "scores"
   ]
  },
  {
   "cell_type": "markdown",
   "id": "7c0fdd3c-3fff-4ef4-847c-7c431d8e19ce",
   "metadata": {
    "tags": []
   },
   "source": [
    "## Fix the id2label in config file"
   ]
  },
  {
   "cell_type": "code",
   "execution_count": 3,
   "id": "78a66135-7287-4517-9f26-741819060113",
   "metadata": {
    "tags": []
   },
   "outputs": [
    {
     "name": "stdout",
     "output_type": "stream",
     "text": [
      "Loading and preprocessing the dataset ...\n",
      "/home/ec2-user/SageMaker/LLM-NER-clinical-text/data/private/n2c2-2018/ner/\n"
     ]
    },
    {
     "data": {
      "application/vnd.jupyter.widget-view+json": {
       "model_id": "a015dc7a1fe145b1aff27c8f73cf3d92",
       "version_major": 2,
       "version_minor": 0
      },
      "text/plain": [
       "Map:   0%|          | 0/1761 [00:00<?, ? examples/s]"
      ]
     },
     "metadata": {},
     "output_type": "display_data"
    },
    {
     "data": {
      "application/vnd.jupyter.widget-view+json": {
       "model_id": "7d02bdaf8cd5416fb4abab0cb47b8198",
       "version_major": 2,
       "version_minor": 0
      },
      "text/plain": [
       "Map:   0%|          | 0/441 [00:00<?, ? examples/s]"
      ]
     },
     "metadata": {},
     "output_type": "display_data"
    },
    {
     "data": {
      "application/vnd.jupyter.widget-view+json": {
       "model_id": "0c40a7753da74bbea9121abb8e6735c2",
       "version_major": 2,
       "version_minor": 0
      },
      "text/plain": [
       "Map:   0%|          | 0/1442 [00:00<?, ? examples/s]"
      ]
     },
     "metadata": {},
     "output_type": "display_data"
    },
    {
     "data": {
      "application/vnd.jupyter.widget-view+json": {
       "model_id": "277e7f48ba9a49528d785d99a67ad04b",
       "version_major": 2,
       "version_minor": 0
      },
      "text/plain": [
       "Map:   0%|          | 0/1761 [00:00<?, ? examples/s]"
      ]
     },
     "metadata": {},
     "output_type": "display_data"
    },
    {
     "data": {
      "application/vnd.jupyter.widget-view+json": {
       "model_id": "2144b8ce52ea4e56945149b415460189",
       "version_major": 2,
       "version_minor": 0
      },
      "text/plain": [
       "Map:   0%|          | 0/441 [00:00<?, ? examples/s]"
      ]
     },
     "metadata": {},
     "output_type": "display_data"
    },
    {
     "data": {
      "application/vnd.jupyter.widget-view+json": {
       "model_id": "512499ab30924356b452b375ae7aa54e",
       "version_major": 2,
       "version_minor": 0
      },
      "text/plain": [
       "Map:   0%|          | 0/1442 [00:00<?, ? examples/s]"
      ]
     },
     "metadata": {},
     "output_type": "display_data"
    }
   ],
   "source": [
    "import json\n",
    "from src.data.data_loader import *\n",
    "from huggingface_hub import HfApi\n",
    "\n",
    "# Load the config file\n",
    "f = open('../models/n2c2-2018/gatortrons/config.json')\n",
    "config = json.load(f)\n",
    "\n",
    "# Load the dataset with label mapping\n",
    "dataset_loader = DatasetLoader(dataset_name='/home/ec2-user/SageMaker/LLM-NER-clinical-text/data/private/n2c2-2018/ner/',\\\n",
    "                               model_name='/home/ec2-user/SageMaker/LLM-NER-clinical-text/models/n2c2-2018/gatortrons/', \\\n",
    "                               path_umls_semtype='../data/public/MedMentions/SemGroups_2018.txt')\n",
    "dataset, classmap, umls_label_code, _ = dataset_loader.load_dataset()\n",
    "\n",
    "# Add the label to the config\n",
    "id_to_label = {ind: classmap.int2str(ind) for ind in range(len(classmap.names))}\n",
    "config['id2label'] = id_to_label\n",
    "config['label2id'] = {id_to_label[key]: key for key in id_to_label.keys()}\n",
    "\n",
    "# Save the config\n",
    "with open('../models/n2c2-2018/gatortrons/config.json', 'w') as f:\n",
    "    json.dump(config, f)\n"
   ]
  },
  {
   "cell_type": "markdown",
   "id": "dce48269-eef3-4c41-bdb3-4382ef083cba",
   "metadata": {},
   "source": [
    "## Push model to hub"
   ]
  },
  {
   "cell_type": "code",
   "execution_count": 4,
   "id": "3735a05b-0e15-4a21-be93-3761629c6753",
   "metadata": {
    "tags": []
   },
   "outputs": [
    {
     "data": {
      "application/vnd.jupyter.widget-view+json": {
       "model_id": "da6835db771f4b089063601c29a9e393",
       "version_major": 2,
       "version_minor": 0
      },
      "text/plain": [
       "VBox(children=(HTML(value='<center> <img\\nsrc=https://huggingface.co/front/assets/huggingface_logo-noborder.sv…"
      ]
     },
     "metadata": {},
     "output_type": "display_data"
    }
   ],
   "source": [
    "from huggingface_hub import notebook_login\n",
    "\n",
    "notebook_login()\n"
   ]
  },
  {
   "cell_type": "code",
   "execution_count": 5,
   "id": "a995cd00-d5fa-40bb-a211-cb56e6406e4f",
   "metadata": {
    "tags": []
   },
   "outputs": [
    {
     "data": {
      "application/vnd.jupyter.widget-view+json": {
       "model_id": "e8a3f54753324b4cb2d7714dafba0c21",
       "version_major": 2,
       "version_minor": 0
      },
      "text/plain": [
       "README.md:   0%|          | 0.00/21.0 [00:00<?, ?B/s]"
      ]
     },
     "metadata": {},
     "output_type": "display_data"
    },
    {
     "data": {
      "application/vnd.jupyter.widget-view+json": {
       "model_id": "ccf6c1b2bf8d48d7861dfd0fc07f8c99",
       "version_major": 2,
       "version_minor": 0
      },
      "text/plain": [
       "model.safetensors:   0%|          | 0.00/1.42G [00:00<?, ?B/s]"
      ]
     },
     "metadata": {},
     "output_type": "display_data"
    },
    {
     "data": {
      "text/plain": [
       "CommitInfo(commit_url='https://huggingface.co/longluu/Clinical-NER-n2c2-2018-track2-GatorTronS/commit/fb30e7cbaae31f9ba9fca1558b5301bd235b673d', commit_message='--batch_size 4 --num_train_epochs 20 --learning_rate 1e-5 --weight_decay 0.0', commit_description='', oid='fb30e7cbaae31f9ba9fca1558b5301bd235b673d', pr_url=None, pr_revision=None, pr_num=None)"
      ]
     },
     "execution_count": 5,
     "metadata": {},
     "output_type": "execute_result"
    }
   ],
   "source": [
    "from transformers import AutoModelForTokenClassification, AutoConfig, AutoTokenizer\n",
    "\n",
    "# Load the model\n",
    "tokenizer = AutoTokenizer.from_pretrained('/home/ec2-user/SageMaker/LLM-NER-clinical-text/models/n2c2-2018/gatortrons/')\n",
    "NER_model = AutoModelForTokenClassification.from_pretrained('/home/ec2-user/SageMaker/LLM-NER-clinical-text/models/n2c2-2018/gatortrons/')\n",
    "\n",
    "# Push the model to hub\n",
    "NER_model.push_to_hub(\"longluu/Clinical-NER-n2c2-2018-track2-GatorTronS\", commit_message='--batch_size 4 --num_train_epochs 20 --learning_rate 1e-5 --weight_decay 0.0')\n",
    "tokenizer.push_to_hub(\"longluu/Clinical-NER-n2c2-2018-track2-GatorTronS\", commit_message='--batch_size 4 --num_train_epochs 20 --learning_rate 1e-5 --weight_decay 0.0')"
   ]
  },
  {
   "cell_type": "code",
   "execution_count": null,
   "id": "02f6a468-dfd6-445e-a49c-687866daef04",
   "metadata": {},
   "outputs": [],
   "source": []
  }
 ],
 "metadata": {
  "kernelspec": {
   "display_name": "Custom (Tutorial-LLM)",
   "language": "python",
   "name": "tutorial-llm"
  },
  "language_info": {
   "codemirror_mode": {
    "name": "ipython",
    "version": 3
   },
   "file_extension": ".py",
   "mimetype": "text/x-python",
   "name": "python",
   "nbconvert_exporter": "python",
   "pygments_lexer": "ipython3",
   "version": "3.9.2"
  }
 },
 "nbformat": 4,
 "nbformat_minor": 5
}
