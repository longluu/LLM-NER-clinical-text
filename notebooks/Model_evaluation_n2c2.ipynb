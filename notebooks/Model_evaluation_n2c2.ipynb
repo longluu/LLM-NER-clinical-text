{
 "cells": [
  {
   "cell_type": "markdown",
   "id": "96f1c2bf-26bd-4ef1-b70a-89c3096f121a",
   "metadata": {
    "tags": []
   },
   "source": [
    "# GatorTronS"
   ]
  },
  {
   "cell_type": "markdown",
   "id": "7cdbc7d5-156e-4cb6-96c8-99ae607d9ee8",
   "metadata": {
    "tags": []
   },
   "source": [
    "## Train the model"
   ]
  },
  {
   "cell_type": "code",
   "execution_count": null,
   "id": "efc20b64-f3b8-405a-a1ef-a1377db9f40a",
   "metadata": {
    "tags": []
   },
   "outputs": [
    {
     "name": "stdout",
     "output_type": "stream",
     "text": [
      "Loading and preprocessing the dataset ...\n",
      "/home/ec2-user/SageMaker/LLM-NER-clinical-text/data/private/n2c2-2018/ner/\n"
     ]
    },
    {
     "data": {
      "application/vnd.jupyter.widget-view+json": {
       "model_id": "29777172f7844449b73d89bf309918bf",
       "version_major": 2,
       "version_minor": 0
      },
      "text/plain": [
       "Map:   0%|          | 0/1761 [00:00<?, ? examples/s]"
      ]
     },
     "metadata": {},
     "output_type": "display_data"
    },
    {
     "data": {
      "application/vnd.jupyter.widget-view+json": {
       "model_id": "5dd24ddc9aa945e6ae4b9fff72e95ada",
       "version_major": 2,
       "version_minor": 0
      },
      "text/plain": [
       "Map:   0%|          | 0/441 [00:00<?, ? examples/s]"
      ]
     },
     "metadata": {},
     "output_type": "display_data"
    },
    {
     "data": {
      "application/vnd.jupyter.widget-view+json": {
       "model_id": "f6838cbb2dfc47d9bb8b737e7e9f5759",
       "version_major": 2,
       "version_minor": 0
      },
      "text/plain": [
       "Map:   0%|          | 0/1442 [00:00<?, ? examples/s]"
      ]
     },
     "metadata": {},
     "output_type": "display_data"
    },
    {
     "data": {
      "application/vnd.jupyter.widget-view+json": {
       "model_id": "6f7af916c9ce4434bde607be24d93ca9",
       "version_major": 2,
       "version_minor": 0
      },
      "text/plain": [
       "Map:   0%|          | 0/1761 [00:00<?, ? examples/s]"
      ]
     },
     "metadata": {},
     "output_type": "display_data"
    },
    {
     "data": {
      "application/vnd.jupyter.widget-view+json": {
       "model_id": "3c4d4525b7cc4051bf2efe7aa67c8b2d",
       "version_major": 2,
       "version_minor": 0
      },
      "text/plain": [
       "Map:   0%|          | 0/441 [00:00<?, ? examples/s]"
      ]
     },
     "metadata": {},
     "output_type": "display_data"
    },
    {
     "data": {
      "application/vnd.jupyter.widget-view+json": {
       "model_id": "1781b4c7d38a4ccab0d04d2e17909ac1",
       "version_major": 2,
       "version_minor": 0
      },
      "text/plain": [
       "Map:   0%|          | 0/1442 [00:00<?, ? examples/s]"
      ]
     },
     "metadata": {},
     "output_type": "display_data"
    },
    {
     "name": "stdout",
     "output_type": "stream",
     "text": [
      "The device to run the model: cuda\n",
      "Load the pretrained model ...\n"
     ]
    },
    {
     "name": "stderr",
     "output_type": "stream",
     "text": [
      "/home/ec2-user/SageMaker/custom-miniconda/miniconda/envs/Tutorial-LLM/lib/python3.9/site-packages/torch/_utils.py:831: UserWarning: TypedStorage is deprecated. It will be removed in the future and UntypedStorage will be the only storage class. This should only matter to you if you are using storages directly.  To access UntypedStorage directly, use tensor.untyped_storage() instead of tensor.storage()\n",
      "  return self.fget.__get__(instance, owner)()\n",
      "Some weights of MegatronBertForTokenClassification were not initialized from the model checkpoint at UFNLP/gatortrons and are newly initialized: ['classifier.bias', 'classifier.weight']\n",
      "You should probably TRAIN this model on a down-stream task to be able to use it for predictions and inference.\n"
     ]
    },
    {
     "name": "stdout",
     "output_type": "stream",
     "text": [
      "The model has 354.237459millions parameters.\n"
     ]
    },
    {
     "data": {
      "text/html": [
       "\n",
       "    <div>\n",
       "      \n",
       "      <progress value='148' max='2205' style='width:300px; height:20px; vertical-align: middle;'></progress>\n",
       "      [ 148/2205 02:55 < 41:09, 0.83 it/s, Epoch 0.33/5]\n",
       "    </div>\n",
       "    <table border=\"1\" class=\"dataframe\">\n",
       "  <thead>\n",
       " <tr style=\"text-align: left;\">\n",
       "      <th>Epoch</th>\n",
       "      <th>Training Loss</th>\n",
       "      <th>Validation Loss</th>\n",
       "    </tr>\n",
       "  </thead>\n",
       "  <tbody>\n",
       "  </tbody>\n",
       "</table><p>"
      ],
      "text/plain": [
       "<IPython.core.display.HTML object>"
      ]
     },
     "metadata": {},
     "output_type": "display_data"
    }
   ],
   "source": [
    "import logging\n",
    "logging.disable(logging.INFO) # disable INFO and DEBUG logging everywhere\n",
    "\n",
    "%run /home/ec2-user/SageMaker/LLM-NER-clinical-text/src/models/train_model.py \\\n",
    "--model_name 'UFNLP/gatortrons' \\\n",
    "--data_dir '/home/ec2-user/SageMaker/LLM-NER-clinical-text/data/private/n2c2-2018/ner/' \\\n",
    "--batch_size 4 \\\n",
    "--num_train_epochs 5 \\\n",
    "--learning_rate 5e-5 \\\n",
    "--weight_decay 0.01 \\\n",
    "--new_model_dir \"/home/ec2-user/SageMaker/LLM-NER-clinical-text/models/n2c2-2018/gatortrons/\" \\\n",
    "--path_umls_semtype '/home/ec2-user/SageMaker/LLM-NER-clinical-text/data/public/MedMentions/SemGroups_2018.txt'\n"
   ]
  },
  {
   "cell_type": "markdown",
   "id": "ea059678-d54a-4ed2-82dc-e0323354d8fd",
   "metadata": {
    "tags": []
   },
   "source": [
    "## Evaluate on test data\n"
   ]
  },
  {
   "cell_type": "code",
   "execution_count": 1,
   "id": "fe0794d8-5c85-4a96-87ab-2e19e1cf7b57",
   "metadata": {
    "tags": []
   },
   "outputs": [
    {
     "name": "stdout",
     "output_type": "stream",
     "text": [
      "Loading and preprocessing the dataset ...\n",
      "ncbi_disease\n"
     ]
    },
    {
     "data": {
      "application/vnd.jupyter.widget-view+json": {
       "model_id": "6f9765d495c3473392f500f80c4ba693",
       "version_major": 2,
       "version_minor": 0
      },
      "text/plain": [
       "Map:   0%|          | 0/941 [00:00<?, ? examples/s]"
      ]
     },
     "metadata": {},
     "output_type": "display_data"
    },
    {
     "data": {
      "text/plain": [
       "{'f1': 0.9230959441861525,\n",
       " 'precision': 0.8998375309216448,\n",
       " 'recall': 0.948772382840148,\n",
       " 'matthews_correlation': 0.8978492834665438}"
      ]
     },
     "execution_count": 1,
     "metadata": {},
     "output_type": "execute_result"
    }
   ],
   "source": [
    "from src.models.model import *\n",
    "\n",
    "# Load the model\n",
    "model_loader = ModelLoader('/home/ec2-user/SageMaker/LLM-NER-clinical-text/models/n2c2-2018/gatortrons/')\n",
    "\n",
    "# Evaluate the models on metrics\n",
    "scores = model_loader.evaluate_model(dataset_name='/home/ec2-user/SageMaker/LLM-NER-clinical-text/data/private/n2c2-2018/ner/',\\\n",
    "                                     path_umls_semtype='../data/public/MedMentions/SemGroups_2018.txt',\\\n",
    "                                     metric_names=['f1', 'precision', 'recall', 'matthews_correlation'])\n",
    "\n",
    "scores"
   ]
  },
  {
   "cell_type": "markdown",
   "id": "7c0fdd3c-3fff-4ef4-847c-7c431d8e19ce",
   "metadata": {
    "tags": []
   },
   "source": [
    "## Fix the id2label in config file"
   ]
  },
  {
   "cell_type": "code",
   "execution_count": 1,
   "id": "78a66135-7287-4517-9f26-741819060113",
   "metadata": {
    "tags": []
   },
   "outputs": [
    {
     "name": "stdout",
     "output_type": "stream",
     "text": [
      "Loading and preprocessing the dataset ...\n",
      "ncbi_disease\n"
     ]
    }
   ],
   "source": [
    "import json\n",
    "from src.data.data_loader import *\n",
    "from huggingface_hub import HfApi\n",
    "\n",
    "# Load the config file\n",
    "f = open('../models/ncbi-disease/gatortrons/config.json')\n",
    "config = json.load(f)\n",
    "\n",
    "# Load the dataset with label mapping\n",
    "dataset_loader = DatasetLoader(dataset_name='/home/ec2-user/SageMaker/LLM-NER-clinical-text/data/private/n2c2-2018/ner/',\\\n",
    "                               model_name='/home/ec2-user/SageMaker/LLM-NER-clinical-text/models/n2c2-2018/gatortrons/', \\\n",
    "                               path_umls_semtype='../data/public/MedMentions/SemGroups_2018.txt')\n",
    "dataset, classmap, umls_label_code, _ = dataset_loader.load_dataset()\n",
    "\n",
    "# Add the label to the config\n",
    "id_to_label = {ind: classmap.int2str(ind) for ind in range(len(classmap.names))}\n",
    "config['id2label'] = id_to_label\n",
    "config['label2id'] = {id_to_label[key]: key for key in id_to_label.keys()}\n",
    "\n",
    "# Save the config\n",
    "with open('../models/n2c2-2018/gatortrons/config.json', 'w') as f:\n",
    "    json.dump(config, f)\n"
   ]
  },
  {
   "cell_type": "code",
   "execution_count": 3,
   "id": "07fd5283-1b29-4b00-b4af-6c3e9c5d90d4",
   "metadata": {
    "tags": []
   },
   "outputs": [
    {
     "data": {
      "text/plain": [
       "CommitInfo(commit_url='https://huggingface.co/longluu/Clinical-NER-NCBI-Disease-GatorTronS/commit/f87294d962ac365cc8d9c3fb4b7884d44a6bcbb3', commit_message='fix the label2id in config', commit_description='', oid='f87294d962ac365cc8d9c3fb4b7884d44a6bcbb3', pr_url=None, pr_revision=None, pr_num=None)"
      ]
     },
     "execution_count": 3,
     "metadata": {},
     "output_type": "execute_result"
    }
   ],
   "source": [
    "# Push the config to hub\n",
    "api = HfApi()\n",
    "api.upload_file(\n",
    "    path_or_fileobj=\"../models/ncbi-disease/gatortrons/config.json\",\n",
    "    path_in_repo=\"config.json\",\n",
    "    repo_id=\"longluu/Clinical-NER-NCBI-Disease-GatorTronS\",\n",
    "    repo_type=\"model\",\n",
    "    commit_message=\"fix the label2id in config\"\n",
    ")"
   ]
  },
  {
   "cell_type": "markdown",
   "id": "dce48269-eef3-4c41-bdb3-4382ef083cba",
   "metadata": {},
   "source": [
    "## Push to model to hub"
   ]
  },
  {
   "cell_type": "code",
   "execution_count": 4,
   "id": "3735a05b-0e15-4a21-be93-3761629c6753",
   "metadata": {
    "tags": []
   },
   "outputs": [
    {
     "data": {
      "application/vnd.jupyter.widget-view+json": {
       "model_id": "bef3efe0ae4b44c6b6ff280d77a74773",
       "version_major": 2,
       "version_minor": 0
      },
      "text/plain": [
       "VBox(children=(HTML(value='<center> <img\\nsrc=https://huggingface.co/front/assets/huggingface_logo-noborder.sv…"
      ]
     },
     "metadata": {},
     "output_type": "display_data"
    }
   ],
   "source": [
    "from huggingface_hub import notebook_login\n",
    "\n",
    "notebook_login()\n"
   ]
  },
  {
   "cell_type": "code",
   "execution_count": 6,
   "id": "a995cd00-d5fa-40bb-a211-cb56e6406e4f",
   "metadata": {
    "tags": []
   },
   "outputs": [
    {
     "data": {
      "application/vnd.jupyter.widget-view+json": {
       "model_id": "2a16a9ba5bbc4645977d6336c742c5bc",
       "version_major": 2,
       "version_minor": 0
      },
      "text/plain": [
       "README.md:   0%|          | 0.00/21.0 [00:00<?, ?B/s]"
      ]
     },
     "metadata": {},
     "output_type": "display_data"
    },
    {
     "data": {
      "application/vnd.jupyter.widget-view+json": {
       "model_id": "c6adddaccb74459a8ef8e0fb9125b0b6",
       "version_major": 2,
       "version_minor": 0
      },
      "text/plain": [
       "model.safetensors:   0%|          | 0.00/1.42G [00:00<?, ?B/s]"
      ]
     },
     "metadata": {},
     "output_type": "display_data"
    },
    {
     "data": {
      "text/plain": [
       "CommitInfo(commit_url='https://huggingface.co/longluu/Clinical-NER-NCBI-Disease-GatorTronS/commit/83f96f0b04875ccf18c2a5a80064218eeb61570a', commit_message='--batch_size 24 --num_train_epochs 5 --learning_rate 5e-5 --weight_decay 0.01', commit_description='', oid='83f96f0b04875ccf18c2a5a80064218eeb61570a', pr_url=None, pr_revision=None, pr_num=None)"
      ]
     },
     "execution_count": 6,
     "metadata": {},
     "output_type": "execute_result"
    }
   ],
   "source": [
    "from transformers import AutoModelForTokenClassification, AutoConfig, AutoTokenizer\n",
    "\n",
    "# Load the model\n",
    "tokenizer = AutoTokenizer.from_pretrained('/home/ec2-user/SageMaker/LLM-NER-clinical-text/models/ncbi-disease/gatortrons/')\n",
    "NER_model = AutoModelForTokenClassification.from_pretrained('/home/ec2-user/SageMaker/LLM-NER-clinical-text/models/ncbi-disease/gatortrons/')\n",
    "\n",
    "# Push the model to hub\n",
    "NER_model.push_to_hub(\"longluu/Clinical-NER-NCBI-Disease-GatorTronS\", commit_message='--batch_size 24 --num_train_epochs 5 --learning_rate 5e-5 --weight_decay 0.01')\n",
    "tokenizer.push_to_hub(\"longluu/Clinical-NER-NCBI-Disease-GatorTronS\", commit_message='--batch_size 24 --num_train_epochs 5 --learning_rate 5e-5 --weight_decay 0.01')"
   ]
  }
 ],
 "metadata": {
  "kernelspec": {
   "display_name": "Custom (Tutorial-LLM)",
   "language": "python",
   "name": "tutorial-llm"
  },
  "language_info": {
   "codemirror_mode": {
    "name": "ipython",
    "version": 3
   },
   "file_extension": ".py",
   "mimetype": "text/x-python",
   "name": "python",
   "nbconvert_exporter": "python",
   "pygments_lexer": "ipython3",
   "version": "3.9.2"
  }
 },
 "nbformat": 4,
 "nbformat_minor": 5
}
