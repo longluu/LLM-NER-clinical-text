{
 "cells": [
  {
   "cell_type": "markdown",
   "id": "96f1c2bf-26bd-4ef1-b70a-89c3096f121a",
   "metadata": {},
   "source": [
    "# Model development"
   ]
  },
  {
   "cell_type": "code",
   "execution_count": 1,
   "id": "09ad6104-6cc2-4002-89c4-07ce42f97c20",
   "metadata": {
    "tags": []
   },
   "outputs": [
    {
     "name": "stderr",
     "output_type": "stream",
     "text": [
      "Some weights of the model checkpoint at UFNLP/gatortron-base were not used when initializing MegatronBertForTokenClassification: ['cls.predictions.bias', 'cls.predictions.transform.LayerNorm.bias', 'cls.seq_relationship.weight', 'cls.seq_relationship.bias', 'cls.predictions.transform.dense.weight', 'cls.predictions.transform.dense.bias', 'cls.predictions.transform.LayerNorm.weight', 'cls.predictions.decoder.weight']\n",
      "- This IS expected if you are initializing MegatronBertForTokenClassification from the checkpoint of a model trained on another task or with another architecture (e.g. initializing a BertForSequenceClassification model from a BertForPreTraining model).\n",
      "- This IS NOT expected if you are initializing MegatronBertForTokenClassification from the checkpoint of a model that you expect to be exactly identical (initializing a BertForSequenceClassification model from a BertForSequenceClassification model).\n",
      "Some weights of MegatronBertForTokenClassification were not initialized from the model checkpoint at UFNLP/gatortron-base and are newly initialized: ['classifier.weight', 'classifier.bias']\n",
      "You should probably TRAIN this model on a down-stream task to be able to use it for predictions and inference.\n"
     ]
    }
   ],
   "source": [
    "from src.models.model import *\n",
    "\n",
    "# Create an NER model from a base pretrained model\n",
    "model_loader = ModelLoader('UFNLP/gatortron-base')\n",
    "NER_model, tokenizer, config = model_loader.load_model(num_labels = 10)"
   ]
  },
  {
   "cell_type": "code",
   "execution_count": 14,
   "id": "8eb1b1ed-cf32-4796-8ea3-bb1bd5b0765d",
   "metadata": {},
   "outputs": [
    {
     "name": "stderr",
     "output_type": "stream",
     "text": [
      "No config specified, defaulting to: ncbi_disease_dataset/ncbi_disease_source\n"
     ]
    },
    {
     "name": "stdout",
     "output_type": "stream",
     "text": [
      "Downloading and preparing dataset ncbi_disease_dataset/ncbi_disease_source to /home/ec2-user/.cache/huggingface/datasets/bigbio___ncbi_disease_dataset/ncbi_disease_source/1.0.0/5f3bb3f460b7487dc6d28ec539d7d7cd7d717705ff58314672581cab8e1d9957...\n"
     ]
    },
    {
     "data": {
      "application/vnd.jupyter.widget-view+json": {
       "model_id": "f29169d4efa440819759545d96d0aa68",
       "version_major": 2,
       "version_minor": 0
      },
      "text/plain": [
       "  0%|          | 0/3 [00:00<?, ?it/s]"
      ]
     },
     "metadata": {},
     "output_type": "display_data"
    },
    {
     "data": {
      "application/vnd.jupyter.widget-view+json": {
       "model_id": "ac21d0d3c6d0471cac85457d2ff5359c",
       "version_major": 2,
       "version_minor": 0
      },
      "text/plain": [
       "Downloading:   0%|          | 0.00/325k [00:00<?, ?B/s]"
      ]
     },
     "metadata": {},
     "output_type": "display_data"
    },
    {
     "data": {
      "application/vnd.jupyter.widget-view+json": {
       "model_id": "2c70b76924b74060be3903b50a078628",
       "version_major": 2,
       "version_minor": 0
      },
      "text/plain": [
       "Downloading:   0%|          | 0.00/60.2k [00:00<?, ?B/s]"
      ]
     },
     "metadata": {},
     "output_type": "display_data"
    },
    {
     "data": {
      "application/vnd.jupyter.widget-view+json": {
       "model_id": "c51aee834ada44cbadd71ec3233eb274",
       "version_major": 2,
       "version_minor": 0
      },
      "text/plain": [
       "Downloading:   0%|          | 0.00/57.7k [00:00<?, ?B/s]"
      ]
     },
     "metadata": {},
     "output_type": "display_data"
    },
    {
     "data": {
      "application/vnd.jupyter.widget-view+json": {
       "model_id": "4277a2d4c74e4663a3e47236ecea15dc",
       "version_major": 2,
       "version_minor": 0
      },
      "text/plain": [
       "  0%|          | 0/3 [00:00<?, ?it/s]"
      ]
     },
     "metadata": {},
     "output_type": "display_data"
    },
    {
     "data": {
      "application/vnd.jupyter.widget-view+json": {
       "model_id": "",
       "version_major": 2,
       "version_minor": 0
      },
      "text/plain": [
       "0 examples [00:00, ? examples/s]"
      ]
     },
     "metadata": {},
     "output_type": "display_data"
    },
    {
     "data": {
      "application/vnd.jupyter.widget-view+json": {
       "model_id": "",
       "version_major": 2,
       "version_minor": 0
      },
      "text/plain": [
       "0 examples [00:00, ? examples/s]"
      ]
     },
     "metadata": {},
     "output_type": "display_data"
    },
    {
     "data": {
      "application/vnd.jupyter.widget-view+json": {
       "model_id": "",
       "version_major": 2,
       "version_minor": 0
      },
      "text/plain": [
       "0 examples [00:00, ? examples/s]"
      ]
     },
     "metadata": {},
     "output_type": "display_data"
    },
    {
     "name": "stdout",
     "output_type": "stream",
     "text": [
      "Dataset ncbi_disease_dataset downloaded and prepared to /home/ec2-user/.cache/huggingface/datasets/bigbio___ncbi_disease_dataset/ncbi_disease_source/1.0.0/5f3bb3f460b7487dc6d28ec539d7d7cd7d717705ff58314672581cab8e1d9957. Subsequent calls will reuse this data.\n"
     ]
    },
    {
     "data": {
      "application/vnd.jupyter.widget-view+json": {
       "model_id": "5adeaee5fa4f453bb7b27fcf965b45be",
       "version_major": 2,
       "version_minor": 0
      },
      "text/plain": [
       "  0%|          | 0/3 [00:00<?, ?it/s]"
      ]
     },
     "metadata": {},
     "output_type": "display_data"
    }
   ],
   "source": [
    "from datasets import load_dataset\n",
    "data = load_dataset(\"bigbio/ncbi_disease\")"
   ]
  },
  {
   "cell_type": "code",
   "execution_count": 15,
   "id": "9b56681b-5907-4ce7-9750-4ff0aea63e7b",
   "metadata": {
    "tags": []
   },
   "outputs": [
    {
     "data": {
      "text/plain": [
       "DatasetDict({\n",
       "    train: Dataset({\n",
       "        features: ['pmid', 'title', 'abstract', 'mentions'],\n",
       "        num_rows: 593\n",
       "    })\n",
       "    test: Dataset({\n",
       "        features: ['pmid', 'title', 'abstract', 'mentions'],\n",
       "        num_rows: 100\n",
       "    })\n",
       "    validation: Dataset({\n",
       "        features: ['pmid', 'title', 'abstract', 'mentions'],\n",
       "        num_rows: 100\n",
       "    })\n",
       "})"
      ]
     },
     "execution_count": 15,
     "metadata": {},
     "output_type": "execute_result"
    }
   ],
   "source": [
    "data"
   ]
  },
  {
   "cell_type": "code",
   "execution_count": 16,
   "id": "64f4407f-c7d6-4ec6-80ac-3d9a59628026",
   "metadata": {
    "tags": []
   },
   "outputs": [
    {
     "data": {
      "text/plain": [
       "'WNT signalling orchestrates a number of developmental programs. In response to this stimulus, cytoplasmic beta-catenin (encoded by CTNNB1) is stabilized, enabling downstream transcriptional activation by members of the LEF/TCF family. One of the target genes for beta-catenin/TCF encodes c-MYC, explaining why constitutive activation of the WNT pathway can lead to cancer, particularly in the colon. Most colon cancers arise from mutations in the gene encoding adenomatous polyposis coli (APC), a protein required for ubiquitin-mediated degradation of beta-catenin, but a small percentage of colon and some other cancers harbour beta-catenin-stabilizing mutations. Recently, we discovered that transgenic mice expressing an activated beta-catenin are predisposed to developing skin tumours resembling pilomatricomas. Given that the skin of these adult mice also exhibits signs of de novo hair-follicle morphogenesis, we wondered whether human pilomatricomas might originate from hair matrix cells and whether they might possess beta-catenin-stabilizing mutations. Here, we explore the cell origin and aetiology of this common human skin tumour. We found nuclear LEF-1 in the dividing tumour cells, providing biochemical evidence that pilomatricomas are derived from hair matrix cells. At least 75% of these tumours possess mutations affecting the amino-terminal segment, normally involved in phosphorylation-dependent, ubiquitin-mediated degradation of the protein. This percentage of CTNNB1 mutations is greater than in all other human tumours examined thus far, and directly implicates beta-catenin/LEF misregulation as the major cause of hair matrix cell tumorigenesis in humans..'"
      ]
     },
     "execution_count": 16,
     "metadata": {},
     "output_type": "execute_result"
    }
   ],
   "source": [
    "data['train']['abstract'][0]"
   ]
  },
  {
   "cell_type": "code",
   "execution_count": 17,
   "id": "1a631395-e533-4e9c-8ff5-930a08229edd",
   "metadata": {
    "tags": []
   },
   "outputs": [
    {
     "data": {
      "text/plain": [
       "[{'concept_id': 'D012878',\n",
       "  'type': 'DiseaseClass',\n",
       "  'text': 'skin tumour',\n",
       "  'offsets': [15, 26]},\n",
       " {'concept_id': 'D009369',\n",
       "  'type': 'DiseaseClass',\n",
       "  'text': 'cancer',\n",
       "  'offsets': [443, 449]},\n",
       " {'concept_id': 'D003110',\n",
       "  'type': 'DiseaseClass',\n",
       "  'text': 'colon cancers',\n",
       "  'offsets': [483, 496]},\n",
       " {'concept_id': 'D011125',\n",
       "  'type': 'SpecificDisease',\n",
       "  'text': 'adenomatous polyposis coli',\n",
       "  'offsets': [539, 565]},\n",
       " {'concept_id': 'D011125',\n",
       "  'type': 'SpecificDisease',\n",
       "  'text': 'APC',\n",
       "  'offsets': [567, 570]},\n",
       " {'concept_id': 'D003110|D009369',\n",
       "  'type': 'CompositeMention',\n",
       "  'text': 'colon and some other cancers',\n",
       "  'offsets': [670, 698]},\n",
       " {'concept_id': 'D012878',\n",
       "  'type': 'DiseaseClass',\n",
       "  'text': 'skin tumours',\n",
       "  'offsets': [855, 867]},\n",
       " {'concept_id': 'D018296',\n",
       "  'type': 'SpecificDisease',\n",
       "  'text': 'pilomatricomas',\n",
       "  'offsets': [879, 893]},\n",
       " {'concept_id': 'D018296',\n",
       "  'type': 'SpecificDisease',\n",
       "  'text': 'pilomatricomas',\n",
       "  'offsets': [1021, 1035]},\n",
       " {'concept_id': 'D012878',\n",
       "  'type': 'DiseaseClass',\n",
       "  'text': 'skin tumour',\n",
       "  'offsets': [1210, 1221]},\n",
       " {'concept_id': 'D009369',\n",
       "  'type': 'Modifier',\n",
       "  'text': 'tumour',\n",
       "  'offsets': [1262, 1268]},\n",
       " {'concept_id': 'D018296',\n",
       "  'type': 'SpecificDisease',\n",
       "  'text': 'pilomatricomas',\n",
       "  'offsets': [1312, 1326]},\n",
       " {'concept_id': 'D009369',\n",
       "  'type': 'DiseaseClass',\n",
       "  'text': 'tumours',\n",
       "  'offsets': [1385, 1392]},\n",
       " {'concept_id': 'D009369',\n",
       "  'type': 'DiseaseClass',\n",
       "  'text': 'tumours',\n",
       "  'offsets': [1615, 1622]}]"
      ]
     },
     "execution_count": 17,
     "metadata": {},
     "output_type": "execute_result"
    }
   ],
   "source": [
    "data['train']['mentions'][0]"
   ]
  },
  {
   "cell_type": "code",
   "execution_count": null,
   "id": "3f70960b-cc8c-4488-a7f7-5155431b54e5",
   "metadata": {},
   "outputs": [],
   "source": []
  }
 ],
 "metadata": {
  "kernelspec": {
   "display_name": "Custom (Tutorial-LLM)",
   "language": "python",
   "name": "tutorial-llm"
  },
  "language_info": {
   "codemirror_mode": {
    "name": "ipython",
    "version": 3
   },
   "file_extension": ".py",
   "mimetype": "text/x-python",
   "name": "python",
   "nbconvert_exporter": "python",
   "pygments_lexer": "ipython3",
   "version": "3.10.2"
  }
 },
 "nbformat": 4,
 "nbformat_minor": 5
}
